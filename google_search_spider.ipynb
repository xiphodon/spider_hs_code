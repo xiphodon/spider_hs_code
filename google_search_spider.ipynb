{
 "cells": [
  {
   "cell_type": "code",
   "execution_count": 18,
   "metadata": {
    "collapsed": true
   },
   "outputs": [],
   "source": [
    "import requests\n",
    "import json\n",
    "\n",
    "# 引入WebDriver包\n",
    "from selenium import webdriver\n",
    "# 引入WebDriver Keys包\n",
    "from selenium.webdriver.common.keys import Keys\n",
    "import time\n",
    "\n",
    "# 进入浏览器设置\n",
    "options = webdriver.ChromeOptions()\n",
    "# 设置中文\n",
    "# options.add_argument('lang=zh_CN.UTF-8')\n",
    "# 更换头部\n",
    "# options.add_argument('user-agent=\"Mozilla/5.0 (iPod; U; CPU iPhone OS 2_1 like Mac OS X; ja-jp) '\n",
    "#                      'AppleWebKit/525.18.1 (KHTML, like Gecko) Version/3.1.1 Mobile/5F137 Safari/525.20\"')\n",
    "\n",
    "options.add_argument(\n",
    "    'user-agent=Mozilla/5.0 (Windows NT 10.0; Win64; x64) '\n",
    "    'AppleWebKit/537.36 (KHTML, like Gecko) Chrome/72.0.3626.121 Safari/537.36')\n",
    "        \n",
    "# \n",
    "# options.add_argument('--proxy-server=http://lum-customer-52wmb-zone-static'\n",
    "#                      '-route_err-pass_dyn-session-0.2664514759485568:'\n",
    "#                      '4n06gf39d6un@zproxy.lum-superproxy.io:22225')\n",
    "\n",
    "# 创建浏览器对象\n",
    "# driver = webdriver.PhantomJS()\n",
    "driver = webdriver.Chrome(chrome_options=options)\n",
    "driver.set_window_size(800, 600)\n",
    "\n",
    "headers = {\n",
    "        # 'User-Agent': 'Mozilla/5.0 (compatible; MSIE 9.0; Windows NT 6.1; WOW64; Trident/5.0)',\n",
    "        'User-Agent': 'Mozilla/5.0 (Windows NT 6.1) AppleWebKit/537.36 (KHTML, like Gecko) Chrome/41.0.2228.0 Safari/537.36',\n",
    "        'Connection': 'keep-alive'\n",
    "}"
   ]
  },
  {
   "cell_type": "code",
   "execution_count": 19,
   "metadata": {},
   "outputs": [],
   "source": [
    "driver.get('https://www.google.com')\n",
    "time.sleep(1)\n",
    "# title = driver.find_element_by_tag_name('title').text.strip()\n",
    "# print(title)"
   ]
  },
  {
   "cell_type": "code",
   "execution_count": 21,
   "metadata": {},
   "outputs": [],
   "source": [
    "import random\n",
    "\n",
    "from selenium.webdriver.common.keys import Keys\n",
    "\n",
    "\n",
    "def search_key_words(key_text: str, result_list: list):\n",
    "    \"\"\"\n",
    "    查询关键字\n",
    "    :param key_text: \n",
    "    :return: \n",
    "    \"\"\"\n",
    "    # driver.get('https://www.google.com')\n",
    "    # time.sleep(0.5)\n",
    "\n",
    "    search_input = driver.find_element_by_xpath('//div/input[@maxlength=\"2048\"]')\n",
    "    search_input.clear()\n",
    "    search_input.send_keys(key_text)\n",
    "    search_input.send_keys(Keys.ENTER)\n",
    "    time.sleep(random.random() + 2.5)\n",
    "        \n",
    "    # search_button = driver.find_element_by_xpath('//div//button')\n",
    "    # search_button.click()\n",
    "    # time.sleep(2)\n",
    "    \n",
    "    pages = 3\n",
    "    \n",
    "    for i in range(pages):\n",
    "    \n",
    "        ad_views = driver.find_elements_by_xpath(\n",
    "            '//div[@class=\"ads-visurl\"]')\n",
    "        for ad_view in ad_views:\n",
    "            url = ad_view.text\n",
    "            print(f'{key_text}: {url}, count:{len(result_list) + 1}')\n",
    "            temp_dict = {\n",
    "                'key': key_text,\n",
    "                'url': url\n",
    "            }\n",
    "            with open(r'E:\\work_all\\topease\\特易数据中心\\ali_google_search\\log2.txt', \n",
    "                      'a', encoding='utf8') as fp:\n",
    "                json.dump(temp_dict, fp)\n",
    "                fp.write('\\n')\n",
    "            result_list.append(temp_dict)\n",
    "            \n",
    "        if i >= pages - 1:\n",
    "            # 最后一页\n",
    "            break\n",
    "            \n",
    "        # 向下滚动200个像素\n",
    "        driver.execute_script('window.scrollBy(0,2000)')\n",
    "\n",
    "        try:\n",
    "            next_page = driver.find_element_by_link_text('下一页')\n",
    "            if next_page:\n",
    "                next_page.click()\n",
    "                time.sleep(random.random() + 2.5)\n",
    "            else:\n",
    "                break\n",
    "        except Exception as e:\n",
    "            break\n",
    "        \n",
    "    driver.delete_all_cookies()\n",
    "    # driver.stop_client()\n",
    "    # driver.start_client()\n"
   ]
  },
  {
   "cell_type": "code",
   "execution_count": 22,
   "metadata": {},
   "outputs": [],
   "source": [
    ""
   ]
  },
  {
   "cell_type": "code",
   "execution_count": 17,
   "metadata": {},
   "outputs": [],
   "source": [
    ""
   ]
  },
  {
   "cell_type": "code",
   "execution_count": 29,
   "metadata": {
    "collapsed": false
   },
   "outputs": [
    {
     "name": "stdout",
     "output_type": "stream",
     "text": [
      "STONE GARDEN PRODUCTS: 广告·\nwww.rock-unique.com/, count:1\n"
     ]
    },
    {
     "name": "stdout",
     "output_type": "stream",
     "text": [
      "REAL ESTATE: 广告·\nwww.damacproperties.com/, count:2\nREAL ESTATE: 广告·\nwww.srx.com.sg/, count:3\nREAL ESTATE: 广告·\nwww.zapmeta.co.uk/Search/Now, count:4\nREAL ESTATE: 广告·\nwww.crystalvillageestepona.com/, count:5\nREAL ESTATE: 广告·\nwww.theagencyre.com/, count:6\n"
     ]
    },
    {
     "name": "stdout",
     "output_type": "stream",
     "text": [
      "REAL ESTATE: 广告·\nwww.damacproperties.com/, count:7\nREAL ESTATE: 广告·\nwww.srx.com.sg/, count:8\n"
     ]
    },
    {
     "name": "stdout",
     "output_type": "stream",
     "text": [
      "REAL ESTATE: 广告·\nwww.damacproperties.com/, count:9\n"
     ]
    },
    {
     "name": "stdout",
     "output_type": "stream",
     "text": [
      "REAL ESTATE: 广告·\nwww.damacproperties.com/, count:10\nREAL ESTATE: 广告·\nwww.srx.com.sg/, count:11\nREAL ESTATE: 广告·\nwww.alexanderedc.org/, count:12\nREAL ESTATE: 广告·\nwww.coastalsarasota.com/, count:13\nREAL ESTATE: 广告·\nwww.bali-information.com/, count:14\nREAL ESTATE: 广告·\nwww.gozofarmhouses.com/, count:15\n"
     ]
    },
    {
     "name": "stdout",
     "output_type": "stream",
     "text": [
      "REAL ESTATE: 广告·\nwww.damacproperties.com/, count:16\nREAL ESTATE: 广告·\nwww.srx.com.sg/, count:17\nREAL ESTATE: 广告·\nwww.sothebysrealty.com/, count:18\n"
     ]
    },
    {
     "name": "stdout",
     "output_type": "stream",
     "text": [
      "APARTMENTS: 广告·\nwww.bentisluxuryapartments.com/, count:19\nAPARTMENTS: 广告·\nwww.myhomebasel.com/, count:20\nAPARTMENTS: 广告·\nwww.venice-lodge.com/, count:21\n"
     ]
    },
    {
     "name": "stdout",
     "output_type": "stream",
     "text": [
      "APARTMENTS: 广告·\nwww.homegroup.org.uk/Wokingham/MontaguePark, count:22\nAPARTMENTS: 广告·\nwww.forrent.com/, count:23\nAPARTMENTS: 广告·\nwww.fortuneliving.pt/, count:24\nAPARTMENTS: 广告·\nwww.avenidaapartments.com/, count:25\nAPARTMENTS: 广告·\nwww.bradysullivan.com/USRubberLofts/Providence, count:26\n"
     ]
    },
    {
     "name": "stdout",
     "output_type": "stream",
     "text": [
      "FARMS: 广告·\nwww.eco-israel.org/agriculture+farms/visit_the_site, count:27\n"
     ]
    },
    {
     "name": "stdout",
     "output_type": "stream",
     "text": [
      "FARMS: 广告·\nwww.eco-israel.org/agriculture+farms/visit_the_site, count:28\nFARMS: 广告·\nwww.barkerstakesfarm.com/, count:29\n"
     ]
    },
    {
     "name": "stdout",
     "output_type": "stream",
     "text": [
      "OFFICE BUILDINGS: 广告·\nsearch.visymo.com/Search_now, count:30\nOFFICE BUILDINGS: 广告·\nwww.tomkinsons.co.uk/, count:31\nOFFICE BUILDINGS: 广告·\nwww.zapmeta.co.uk/Search_The_Web, count:32\n"
     ]
    },
    {
     "name": "stdout",
     "output_type": "stream",
     "text": [
      "OFFICE BUILDINGS: 广告·\nwww.tomkinsons.co.uk/, count:33\n"
     ]
    },
    {
     "name": "stdout",
     "output_type": "stream",
     "text": [
      "SHOPS: 广告·\nwww.manomano.co.uk/, count:34\n"
     ]
    },
    {
     "name": "stdout",
     "output_type": "stream",
     "text": [
      "WORKSHOPS & PLANTS: 广告·\nwww.tapeartmovement.com/, count:35\n"
     ]
    },
    {
     "name": "stdout",
     "output_type": "stream",
     "text": [
      "OTHER REAL ESTATE: 广告·\nwww.damacproperties.com/, count:36\n"
     ]
    },
    {
     "name": "stdout",
     "output_type": "stream",
     "text": [
      "HOTELS: 广告·\nwww.hotels.cn/酒店, count:37\nHOTELS: 广告·\nwww.booking.com/酒店, count:38\n"
     ]
    },
    {
     "name": "stdout",
     "output_type": "stream",
     "text": [
      "HOTELS: 广告·\nwww.hotels.cn/, count:39\nHOTELS: 广告·\nwww.booking.com/酒店, count:40\nHOTELS: 广告·\nwww.skyscanner.net/Hotels, count:41\nHOTELS: 广告·\nwww.luxuryhotelsguides.com/酒店+台湾, count:42\nHOTELS: 广告·\nwww.momondo.co.uk/, count:43\nHOTELS: 广告·\nwww.save70.com/Hotel/Accommodation, count:44\n"
     ]
    },
    {
     "name": "stdout",
     "output_type": "stream",
     "text": [
      "HOTELS: 广告·\nwww.trivago.co.uk/, count:45\nHOTELS: 广告·\nwww.hotels.cn/, count:46\nHOTELS: 广告·\nwww.travelodge.co.uk/, count:47\nHOTELS: 广告·\nwww.thevillarehotel.co.uk/, count:48\nHOTELS: 广告·\nwww.suissebellevue.com/, count:49\nHOTELS: 广告·\nwww.hotels.com/, count:50\nHOTELS: 广告·\nwww.zapmeta.co.uk/Hotel+Dot+Com/Now, count:51\n"
     ]
    },
    {
     "name": "stdout",
     "output_type": "stream",
     "text": [
      "VILLAS: 广告·\nwww.luxuryretreats.com/, count:52\nVILLAS: 广告·\nwww.hotels.cn/, count:53\nVILLAS: 广告·\nwww.steliata.gr/, count:54\nVILLAS: 广告·\nwww.lux-villas.com/, count:55\nVILLAS: 广告·\nwww.88dreamhouseproperty.com/, count:56\n"
     ]
    },
    {
     "name": "stdout",
     "output_type": "stream",
     "text": [
      "VILLAS: 广告·\nwww.airbnb.com/Villas, count:57\nVILLAS: 广告·\nwww.luxuryretreats.com/, count:58\nVILLAS: 广告·\nwww.sothebysrealty.com/, count:59\n"
     ]
    },
    {
     "name": "stdout",
     "output_type": "stream",
     "text": [
      "WAREHOUSES: 广告·\nwww.warehouse.co.uk/, count:60\n"
     ]
    },
    {
     "name": "stdout",
     "output_type": "stream",
     "text": [
      "WAREHOUSES: 广告·\nwww.midllogistics.com/, count:61\n"
     ]
    },
    {
     "name": "stdout",
     "output_type": "stream",
     "text": [
      "PREFAB HOUSES: 广告·\nwww.alibaba.com/Wholesale/Marketplace, count:62\nPREFAB HOUSES: 广告·\nwww.edilsider.com/, count:63\n"
     ]
    },
    {
     "name": "stdout",
     "output_type": "stream",
     "text": [
      "ARCHITECTURAL SCALE MODEL: 广告·\nwww.accucities.com/, count:64\n"
     ]
    },
    {
     "name": "stdout",
     "output_type": "stream",
     "text": [
      "ARCHITECTURAL SCALE MODEL: 广告·\nus.arckit.com/, count:65\nARCHITECTURAL SCALE MODEL: 广告·\nwww.accucities.com/, count:66\nARCHITECTURAL SCALE MODEL: 广告·\nwww.3dpeople.uk/, count:67\nARCHITECTURAL SCALE MODEL: 广告·\nwww.lifang.co.uk/, count:68\nARCHITECTURAL SCALE MODEL: 广告·\nwww.scalemodelmakers.co.uk/, count:69\n"
     ]
    },
    {
     "name": "stdout",
     "output_type": "stream",
     "text": [
      "TILES & ACCESSORIES: 广告\nwww.emctiles.co.uk/wall-tiles/bathroom-tiles, count:70\nTILES & ACCESSORIES: 广告\nwww.londontile.co.uk/, count:71\nTILES & ACCESSORIES: 广告\nwww.porcelanosa.com/, count:72\nTILES & ACCESSORIES: 广告\nwww.lite-stone.co.uk/, count:73\nTILES & ACCESSORIES: 广告\nwww.vfloors.co.uk/, count:74\nTILES & ACCESSORIES: 广告\nwww.furnesstilesandflooring.co.uk/, count:75\n"
     ]
    },
    {
     "name": "stdout",
     "output_type": "stream",
     "text": [
      "TILES & ACCESSORIES: 广告·\nwww.londontile.co.uk/, count:76\nTILES & ACCESSORIES: 广告·\nwww.emctiles.co.uk/kitchen-tiles/wall-tiles, count:77\nTILES & ACCESSORIES: 广告·\nwww.lite-stone.co.uk/, count:78\n"
     ]
    },
    {
     "name": "stdout",
     "output_type": "stream",
     "text": [
      "TILES: 广告www.victorianplumbing.co.uk/, count:79\nTILES: 广告www.wallsandfloors.co.uk/tiles, count:80\n"
     ]
    },
    {
     "name": "stdout",
     "output_type": "stream",
     "text": [
      "TILES: 广告www.victorianplumbing.co.uk/, count:81\nTILES: 广告www.victoriaplum.com/, count:82\nTILES: 广告www.wallsandfloors.co.uk/tiles, count:83\nTILES: 广告www.tilemountain.co.uk/, count:84\nTILES: 广告www.emctiles.co.uk/bathroom-tiles/low-prices, count:85\nTILES: 广告www.sdhtiling.co.uk/, count:86\nTILES: 广告www.manomano.co.uk/, count:87\n"
     ]
    },
    {
     "name": "stdout",
     "output_type": "stream",
     "text": [
      "TILES: 广告www.victorianplumbing.co.uk/, count:88\nTILES: 广告www.wallsandfloors.co.uk/tiles, count:89\nTILES: 广告www.porcelanosa.com/, count:90\nTILES: 广告www.floorsofstone.com/, count:91\nTILES: 广告www.tilemountain.co.uk/, count:92\n"
     ]
    },
    {
     "name": "stdout",
     "output_type": "stream",
     "text": [
      "TILE ACCESSORIES: 广告·\nwww.tileexperience.co.uk/, count:93\nTILE ACCESSORIES: 广告·\nwww.alistairmackintosh.co.uk/, count:94\nTILE ACCESSORIES: 广告·\nwww.emctiles.co.uk/floor-tiles/kitchen-tiles, count:95\n"
     ]
    },
    {
     "name": "stdout",
     "output_type": "stream",
     "text": [
      "DECORATIVE HIGH-PRESSURE LAMINATES / HPL: 广告·\nwww.widerdare.com/, count:96\nDECORATIVE HIGH-PRESSURE LAMINATES / HPL: 广告·\nen.czhjl.com/, count:97\nDECORATIVE HIGH-PRESSURE LAMINATES / HPL: 广告·\nen.chinawuya.com/, count:98\nDECORATIVE HIGH-PRESSURE LAMINATES / HPL: 广告·\nwww.wayfair.co.uk/, count:99\n"
     ]
    },
    {
     "name": "stdout",
     "output_type": "stream",
     "text": [
      "DECORATIVE HIGH-PRESSURE LAMINATES / HPL: 广告·\nwww.widerdare.com/, count:100\n"
     ]
    },
    {
     "name": "stdout",
     "output_type": "stream",
     "text": [
      "FINGER JOINTED BOARDS: 广告·\nwww.finsa.com/, count:101\n"
     ]
    },
    {
     "name": "stdout",
     "output_type": "stream",
     "text": [
      "LAMINATED WOOD BOARDS / BLOCKBOARDS: 广告·\nwww.ukflooringdirect.co.uk/laminate/flooring, count:102\n"
     ]
    },
    {
     "name": "stdout",
     "output_type": "stream",
     "text": [
      "LAMINATED WOOD BOARDS / BLOCKBOARDS: 广告·\nwww.ukflooringdirect.co.uk/laminate/flooring, count:103\nLAMINATED WOOD BOARDS / BLOCKBOARDS: 广告·\nwww.finsa.com/, count:104\n"
     ]
    },
    {
     "name": "stdout",
     "output_type": "stream",
     "text": [
      "MELAMINE BOARDS: 广告·\nwww.chemondis.com/Purchase/Chemicals, count:105\n"
     ]
    },
    {
     "name": "stdout",
     "output_type": "stream",
     "text": [
      "MELAMINE BOARDS: 广告·\nwww.chemondis.com/Purchase/Chemicals, count:106\nMELAMINE BOARDS: 广告·\nwww.finsa.com/, count:107\nMELAMINE BOARDS: 广告·\nwww.interiorpanelsystems.co.uk/, count:108\nMELAMINE BOARDS: 广告·\nwww.mastershelf.co.uk/, count:109\n"
     ]
    },
    {
     "name": "stdout",
     "output_type": "stream",
     "text": [
      "MELAMINE BOARDS: 广告·\nwww.chemondis.com/Purchase/Chemicals, count:110\n"
     ]
    },
    {
     "name": "stdout",
     "output_type": "stream",
     "text": [
      "PLYWOODS: 广告·\nwww.slhardwoods.co.uk/Plywood/Marine, count:111\n"
     ]
    },
    {
     "name": "stdout",
     "output_type": "stream",
     "text": [
      "PLYWOODS: 广告·\nwww.slhardwoods.co.uk/Plywood/Ash, count:112\nPLYWOODS: 广告·\nwww.vam.ac.uk/, count:113\nPLYWOODS: 广告·\nwww.paschal.de/Plywood-Panels, count:114\nPLYWOODS: 广告·\nwww.finsa.com/, count:115\nPLYWOODS: 广告·\nwww.wisaplywood.com/plywood, count:116\n"
     ]
    },
    {
     "name": "stdout",
     "output_type": "stream",
     "text": [
      "PLYWOODS: 广告·\nwww.slhardwoods.co.uk/Plywood/Ash, count:117\n"
     ]
    },
    {
     "name": "stdout",
     "output_type": "stream",
     "text": [
      "VENEERS: 广告·\nwww.harleystreetsmileclinic.co.uk/london/veneers, count:118\n"
     ]
    },
    {
     "name": "stdout",
     "output_type": "stream",
     "text": [
      "VENEERS: 广告·\nwww.aplusnetworks.co.kr/, count:119\nVENEERS: 广告·\nwww.icoi.org/, count:120\nVENEERS: 广告·\nwww.unspokensmiles.org/, count:121\nVENEERS: 广告·\nwww.nature.com/, count:122\nVENEERS: 广告·\nen.sg-veneers.com/, count:123\nVENEERS: 广告·\nwww.valuedental.com/, count:124\n"
     ]
    },
    {
     "name": "stdout",
     "output_type": "stream",
     "text": [
      "Barware: 广告·\nwashington.intercontinental.com/, count:125\n"
     ]
    },
    {
     "name": "stdout",
     "output_type": "stream",
     "text": [
      "Bakeware: 广告·\nwww.sainsburys.co.uk/, count:126\n"
     ]
    },
    {
     "name": "stdout",
     "output_type": "stream",
     "text": [
      "Bakeware: 广告·\nwww.sainsburys.co.uk/, count:127\n"
     ]
    },
    {
     "name": "stdout",
     "output_type": "stream",
     "text": [
      "Cookware: 广告·\nwww.procook.co.uk/, count:128\nCookware: 广告·\nwww.catering-appliance.com/, count:129\nCookware: 广告·\nww.tompress.co.uk/Homemade, count:130\nCookware: 广告·\nwww.nisbets.co.uk/, count:131\n"
     ]
    },
    {
     "name": "stdout",
     "output_type": "stream",
     "text": [
      "Cookware: 广告·\nwww.wayfair.co.uk/, count:132\nCookware: 广告·\nwww.procook.co.uk/, count:133\n"
     ]
    },
    {
     "name": "stdout",
     "output_type": "stream",
     "text": [
      "Drinkware: 广告·\nwww.luxdeco.com/, count:134\nDrinkware: 广告·\nwww.silivino.com/, count:135\nDrinkware: 广告·\nwww.wayfair.co.uk/, count:136\n"
     ]
    },
    {
     "name": "stdout",
     "output_type": "stream",
     "text": [
      "Dinnerware: 广告·\nwww.luxdeco.com/, count:137\nDinnerware: 广告·\nwww.betterwayceramics.com/, count:138\nDinnerware: 广告·\nwww.roseandgrey.co.uk/, count:139\nDinnerware: 广告·\nwww.charterwellsuk.com/, count:140\n"
     ]
    },
    {
     "name": "stdout",
     "output_type": "stream",
     "text": [
      "Flatware: 广告·\nwww.bgbenton.co.uk/, count:141\nFlatware: 广告·\nwww.arcos.com/, count:142\nFlatware: 广告·\nwww.luxdeco.com/, count:143\nFlatware: 广告·\nwww.venettodesign.com/, count:144\n"
     ]
    },
    {
     "name": "stdout",
     "output_type": "stream",
     "text": [
      "Kitchen Knives & Accessories: 广告·\nwww.jean-patrique.co.uk/, count:145\nKitchen Knives & Accessories: 广告·\nwww.kuhnrikon.co.uk/, count:146\n"
     ]
    },
    {
     "name": "stdout",
     "output_type": "stream",
     "text": [
      "Table Decoration & Accessories: 广告·\nwww.wayfair.co.uk, count:147\n"
     ]
    },
    {
     "name": "stdout",
     "output_type": "stream",
     "text": [
      "Buckets: 广告·\nwww.fantastipack.com/, count:148\nBuckets: 广告·\nwww.auer-packaging.com/, count:149\n"
     ]
    },
    {
     "name": "stdout",
     "output_type": "stream",
     "text": [
      "Laundry Products: 广告·\nuk.iherb.com/Laundry, count:150\n"
     ]
    },
    {
     "name": "stdout",
     "output_type": "stream",
     "text": [
      "Laundry Products: 广告·\nwww.topironing.co.uk/, count:151\n"
     ]
    },
    {
     "name": "stdout",
     "output_type": "stream",
     "text": [
      "Brooms & Dustpans: 广告·\nwww.ecoshop.surf/, count:152\n"
     ]
    },
    {
     "name": "stdout",
     "output_type": "stream",
     "text": [
      "Brooms & Dustpans: 广告·\nwww.zoro.co.uk/Cleaning/Dustpans, count:153\n"
     ]
    },
    {
     "name": "stdout",
     "output_type": "stream",
     "text": [
      "Household Chemicals: 广告·\nwww.izito.co.uk/, count:154\nHousehold Chemicals: 广告·\nwww.gigapromo.co.uk/, count:155\n"
     ]
    },
    {
     "name": "stdout",
     "output_type": "stream",
     "text": [
      "Cleaning Cloths: 广告·\nwww.mewa.co.uk/, count:156\n"
     ]
    },
    {
     "name": "stdout",
     "output_type": "stream",
     "text": [
      "Cleaning Cloths: 广告·\nwww.mewa.co.uk/, count:157\nCleaning Cloths: 广告·\nwww.completejanitorials.com/, count:158\nCleaning Cloths: 广告·\neshop.wurth.co.uk/Equipment/Working, count:159\nCleaning Cloths: 广告·\nwww.lindstromgroup.com/, count:160\n"
     ]
    },
    {
     "name": "stdout",
     "output_type": "stream",
     "text": [
      "Cleaning Cloths: 广告·\nwww.mewa.co.uk/, count:161\nCleaning Cloths: 广告·\nwww.lindstromgroup.com/, count:162\n"
     ]
    },
    {
     "name": "stdout",
     "output_type": "stream",
     "text": [
      "Aprons: 广告·\nwww.chefworks.com.hk/Chefs_Aprons, count:163\nAprons: 广告·\nwww.overstock.com/, count:164\n"
     ]
    },
    {
     "name": "stdout",
     "output_type": "stream",
     "text": [
      "Aprons: 广告·\nwww.chefworks.com.hk/Chefs_Aprons, count:165\nAprons: 广告·\nwww.overstock.com/, count:166\n"
     ]
    },
    {
     "name": "stdout",
     "output_type": "stream",
     "text": [
      "Waste Bins: 广告·\nquotes.expertmarket.co.uk/Waste/Collection, count:167\n"
     ]
    },
    {
     "name": "stdout",
     "output_type": "stream",
     "text": [
      "Waste Bins: 广告·\nwww.langtonsltd.co.uk/, count:168\nWaste Bins: 广告·\nquotes.expertmarket.co.uk/Waste/Collection, count:169\nWaste Bins: 广告·\nwww.activewashrooms.co.uk/, count:170\nWaste Bins: 广告·\nwww.jungheinrich-profishop.co.uk/Waste-Bins, count:171\nWaste Bins: 广告·\nwww.sigmaaldrich.com/, count:172\nWaste Bins: 广告·\nwww.orwakeasi.co.uk/, count:173\nWaste Bins: 广告·\nwww.solentplastics.co.uk/, count:174\n"
     ]
    },
    {
     "name": "stdout",
     "output_type": "stream",
     "text": [
      "Waste Bins: 广告·\nquotes.expertmarket.co.uk/Waste/Collection, count:175\n"
     ]
    },
    {
     "name": "stdout",
     "output_type": "stream",
     "text": [
      "Cleaning Brushes: 广告·\nwww.feelunique.com/, count:176\n"
     ]
    },
    {
     "name": "stdout",
     "output_type": "stream",
     "text": [
      "Household Gloves: 广告·\nwww.flayan.co.uk/, count:177\n"
     ]
    },
    {
     "name": "stdout",
     "output_type": "stream",
     "text": [
      "Household Gloves: 广告·\nwww.flayan.co.uk/, count:178\nHousehold Gloves: 广告·\nwww.fseason.vn/, count:179\n"
     ]
    },
    {
     "name": "stdout",
     "output_type": "stream",
     "text": [
      "Household Gloves: 广告·\nwww.flayan.co.uk/, count:180\nHousehold Gloves: 广告·\nwww.broschdirect.com/Gloves, count:181\nHousehold Gloves: 广告·\nwww.justgloves.co.uk/WorkGloves, count:182\nHousehold Gloves: 广告·\nwww.workgloves.co.uk/, count:183\n"
     ]
    },
    {
     "name": "stdout",
     "output_type": "stream",
     "text": [
      "Storage Boxes & Bins: 广告·\nwww.johnlewis.com/storage-boxes, count:184\nStorage Boxes & Bins: 广告·\nwww.storagedirect.co.uk/, count:185\nStorage Boxes & Bins: 广告·\nwww.solentplastics.co.uk/, count:186\nStorage Boxes & Bins: 广告·\nwww.plastor.co.uk/, count:187\nStorage Boxes & Bins: 广告·\nwww.izito.co.uk/, count:188\n"
     ]
    },
    {
     "name": "stdout",
     "output_type": "stream",
     "text": [
      "Storage Bottles & Jars: 广告·\nwww.alibaba.com/Wholesale/Marketplace, count:189\n"
     ]
    },
    {
     "name": "stdout",
     "output_type": "stream",
     "text": [
      "Storage Bags: 广告·\nwww.banggood.com/, count:190\n"
     ]
    },
    {
     "name": "stdout",
     "output_type": "stream",
     "text": [
      "Storage Bags: 广告·\nwww.bagbnb.com/, count:191\nStorage Bags: 广告·\nwww.alibaba.com/Wholesale/Marketplace, count:192\n"
     ]
    },
    {
     "name": "stdout",
     "output_type": "stream",
     "text": [
      "Storage Baskets: 广告·\nwww.thebasketcompany.com/, count:193\n"
     ]
    },
    {
     "name": "stdout",
     "output_type": "stream",
     "text": [
      "Storage Baskets: 广告·\nwww.thebasketcompany.com/, count:194\nStorage Baskets: 广告·\nwww.bohemiadesign.co.uk/, count:195\nStorage Baskets: 广告·\nwww.aplaceforeverything.co.uk/, count:196\nStorage Baskets: 广告·\nwww.basket-trend.com/, count:197\nStorage Baskets: 广告·\nwww.made.com/, count:198\nStorage Baskets: 广告·\nwww.viettimecraft.com/, count:199\n"
     ]
    },
    {
     "name": "stdout",
     "output_type": "stream",
     "text": [
      "Storage Baskets: 广告·\nwww.thebasketcompany.com/, count:200\n"
     ]
    },
    {
     "name": "stdout",
     "output_type": "stream",
     "text": [
      "Storage Holders & Racks: 广告·\nwww.mecalux.co.uk/, count:201\nStorage Holders & Racks: 广告·\nwww.premier-storage.co.uk/Storage_Racks, count:202\n"
     ]
    },
    {
     "name": "stdout",
     "output_type": "stream",
     "text": [
      "Storage Holders & Racks: 广告·\nwww.mecalux.co.uk/, count:203\n"
     ]
    },
    {
     "name": "stdout",
     "output_type": "stream",
     "text": [
      "Storage Drawers: 广告·\nwww.3jc.co.uk/, count:204\nStorage Drawers: 广告·\nwww.zapmeta.co.uk/Storag/Now, count:205\nStorage Drawers: 广告·\nshop.sueryder.org/storage-units, count:206\nStorage Drawers: 广告·\nrequestuk.lista.com/drawercabinets, count:207\nStorage Drawers: 广告·\nwww.shopstyle.co.uk/Home, count:208\nStorage Drawers: 广告·\nwww.wayfair.co.uk/, count:209\n"
     ]
    },
    {
     "name": "stdout",
     "output_type": "stream",
     "text": [
      "Household Sundries: 广告·\nwww.wayfair.co.uk/, count:210\n"
     ]
    },
    {
     "name": "stdout",
     "output_type": "stream",
     "text": [
      "Household Sundries: 广告·\nwww.wayfair.co.uk/, count:211\n"
     ]
    },
    {
     "name": "stdout",
     "output_type": "stream",
     "text": [
      "Baby Supplies & Products: 广告\nwww.snugdem-boogums.co.uk/, count:212\n"
     ]
    },
    {
     "name": "stdout",
     "output_type": "stream",
     "text": [
      "Household Scales: 广告·\nwww.manomano.co.uk/, count:213\n"
     ]
    },
    {
     "name": "stdout",
     "output_type": "stream",
     "text": [
      "Needlework: 广告·\nwww.finecellwork.co.uk/gifts/ethical, count:214\nNeedlework: 广告·\nwww.hobbyhouseneedleworks.com/, count:215\n"
     ]
    },
    {
     "name": "stdout",
     "output_type": "stream",
     "text": [
      "Hot Water Bottles: 广告·\nwww.katrinahampton.co.uk/shop/hw-bottles, count:216\nHot Water Bottles: 广告·\nshop.chaletaffair.com/, count:217\nHot Water Bottles: 广告·\nwww.finesaratoga.com/, count:218\n"
     ]
    },
    {
     "name": "stdout",
     "output_type": "stream",
     "text": [
      "Hot Water Bottles: 广告·\nwww.katrinahampton.co.uk/shop/hw-bottles, count:219\nHot Water Bottles: 广告·\nshop.sueryder.org/, count:220\nHot Water Bottles: 广告·\nwww.lovehotwaterbottles.com/, count:221\nHot Water Bottles: 广告·\nwww.hotwaterbottleshop.co.uk/, count:222\n"
     ]
    },
    {
     "name": "stdout",
     "output_type": "stream",
     "text": [
      "Fireplace Sets & Accessories: 广告\nwww.manomano.co.uk/, count:223\n"
     ]
    },
    {
     "name": "stdout",
     "output_type": "stream",
     "text": [
      "Home Decor: 广告·\nwww.nolanadine.com/, count:224\nHome Decor: 广告·\nwww.foliageandfurnishings.com/, count:225\nHome Decor: 广告·\nwww.wayfair.co.uk/, count:226\n"
     ]
    },
    {
     "name": "stdout",
     "output_type": "stream",
     "text": [
      "Home Decor: 广告·\nwww.amelchamandydesigns.com/, count:227\nHome Decor: 广告·\nwww.saatchiart.com/benkamble, count:228\nHome Decor: 广告·\nwww.shopfactorydirect.com/, count:229\n"
     ]
    },
    {
     "name": "stdout",
     "output_type": "stream",
     "text": [
      "Blinds, Shades & Shutters: 广告·\nwww.hillarys.co.uk/, count:230\nBlinds, Shades & Shutters: 广告·\nwww.swiftdirectblinds.co.uk/, count:231\nBlinds, Shades & Shutters: 广告·\nwww.blinds-2go.co.uk/, count:232\n"
     ]
    },
    {
     "name": "stdout",
     "output_type": "stream",
     "text": [
      "Blinds, Shades & Shutters: 广告·\nwww.overstock.com/, count:233\n"
     ]
    },
    {
     "name": "stdout",
     "output_type": "stream",
     "text": [
      "Screens & Room Dividers: 广告·\nwww.overstock.com/, count:234\n"
     ]
    },
    {
     "name": "stdout",
     "output_type": "stream",
     "text": [
      "Fridge Magnets: 广告·\nwww.stickersinternational.co.uk/, count:235\nFridge Magnets: 广告·\nwww.vistaprint.co.uk/, count:236\nFridge Magnets: 广告·\nwww.bizay.co.uk/, count:237\nFridge Magnets: 广告·\nwww.zazzle.co.uk/, count:238\nFridge Magnets: 广告·\nwww.manomano.co.uk/, count:239\nFridge Magnets: 广告·\nwww.cafepress.ca/, count:240\nFridge Magnets: 广告·\nwww.stoswaldsuk.org/, count:241\n"
     ]
    },
    {
     "name": "stdout",
     "output_type": "stream",
     "text": [
      "Vases: 广告·\nwww.shopstyle.co.uk/Home, count:242\nVases: 广告·\nwww.dartington.co.uk/, count:243\nVases: 广告·\nwww.linddna.com/, count:244\n"
     ]
    },
    {
     "name": "stdout",
     "output_type": "stream",
     "text": [
      "Crystal Soil: 广告·\nspringtechcorporation.en.taiwantrade.com/, count:245\nCrystal Soil: 广告·\nwww.thepsychictree.co.uk/, count:246\n"
     ]
    },
    {
     "name": "stdout",
     "output_type": "stream",
     "text": [
      "Plaques: 广告www.brunelengraving.co.uk/Plaques/Custom, count:247\nPlaques: 广告www.arrowbronze.co.uk/, count:248\nPlaques: 广告www.castbronzeplaques.com/, count:249\nPlaques: 广告www.brassplaques.co.uk/, count:250\n"
     ]
    },
    {
     "name": "stdout",
     "output_type": "stream",
     "text": [
      "Rain Gear: 广告·\nuk.rains.com/, count:251\n"
     ]
    },
    {
     "name": "stdout",
     "output_type": "stream",
     "text": [
      "Rain Gear: 广告·\nwww.manomano.co.uk/, count:252\nRain Gear: 广告·\nwww.sailing-apparel.com/, count:253\nRain Gear: 广告·\nwww.amazon.co.uk/Rain+gear, count:254\nRain Gear: 广告·\nwww.niurain.com/, count:255\n"
     ]
    },
    {
     "name": "stdout",
     "output_type": "stream",
     "text": [
      "Umbrellas: 广告·\nwww.brolliesgalore.co.uk/, count:256\nUmbrellas: 广告·\nwww.johnlewis.com/Umbrellas, count:257\nUmbrellas: 广告·\nwww.instashade.co.uk/, count:258\nUmbrellas: 广告·\nwww.londonundercover.co.uk/, count:259\n"
     ]
    },
    {
     "name": "stdout",
     "output_type": "stream",
     "text": [
      "Umbrellas: 广告·\nwww.brolliesgalore.co.uk/, count:260\n"
     ]
    },
    {
     "name": "stdout",
     "output_type": "stream",
     "text": [
      "Raincoats: 广告·\ngb.maxmara.com/Coats/SS-2020, count:261\nRaincoats: 广告·\nwww.balenciaga.com/, count:262\nRaincoats: 广告·\nwww.oxfam.org.uk/shop, count:263\nRaincoats: 广告·\nwww.hellyhansen.com/, count:264\nRaincoats: 广告·\ngb.tretorn.com/, count:265\nRaincoats: 广告·\nwww.childrensalon.com/, count:266\n"
     ]
    },
    {
     "name": "stdout",
     "output_type": "stream",
     "text": [
      "Umbrella Stands: 广告·\nwww.wayfair.co.uk/, count:267\n"
     ]
    },
    {
     "name": "stdout",
     "output_type": "stream",
     "text": [
      "Umbrella Stands: 广告·\nwww.made.com/, count:268\n"
     ]
    },
    {
     "name": "stdout",
     "output_type": "stream",
     "text": [
      "Lighters: 广告·\nwww.wish.com/, count:269\nLighters: 广告·\nwww.personalisedgiftsshop.co.uk/lighters, count:270\nLighters: 广告·\nwww.made-in-china.com/hot-products/bulk-buying, count:271\n"
     ]
    },
    {
     "name": "stdout",
     "output_type": "stream",
     "text": [
      "Ashtrays: 广告\nwww.ascotwholesale.co.uk/, count:272\nAshtrays: 广告\nwww.jungheinrich-profishop.co.uk/Ashtrays, count:273\n"
     ]
    },
    {
     "name": "stdout",
     "output_type": "stream",
     "text": [
      "Matches: 广告·\nwww.matchesfashion.com/, count:274\n"
     ]
    },
    {
     "name": "stdout",
     "output_type": "stream",
     "text": [
      "Matches: 广告·\nwww.matchesfashion.com/, count:275\n"
     ]
    },
    {
     "name": "stdout",
     "output_type": "stream",
     "text": [
      "Matches: 广告·\nwww.matchesfashion.com/, count:276\n"
     ]
    },
    {
     "name": "stdout",
     "output_type": "stream",
     "text": [
      "1837 Bathroom Products\n"
     ]
    },
    {
     "ename": "NoSuchWindowException",
     "evalue": "Message: no such window: target window already closed\nfrom unknown error: web view not found\n  (Session info: chrome=72.0.3626.121)\n  (Driver info: chromedriver=73.0.3683.68 (47787ec04b6e38e22703e856e101e840b65afe72),platform=Windows NT 10.0.18362 x86_64)\n",
     "traceback": [
      "\u001b[1;31m---------------------------------------------------------------------------\u001b[0m",
      "\u001b[1;31mNoSuchWindowException\u001b[0m                     Traceback (most recent call last)",
      "\u001b[1;32m<ipython-input-29-9888fd31f529>\u001b[0m in \u001b[0;36m<module>\u001b[1;34m()\u001b[0m\n\u001b[0;32m     11\u001b[0m     \u001b[1;32mexcept\u001b[0m \u001b[0mException\u001b[0m \u001b[1;32mas\u001b[0m \u001b[0me\u001b[0m\u001b[1;33m:\u001b[0m\u001b[1;33m\u001b[0m\u001b[1;33m\u001b[0m\u001b[0m\n\u001b[0;32m     12\u001b[0m         \u001b[0mprint\u001b[0m\u001b[1;33m(\u001b[0m\u001b[0mi\u001b[0m \u001b[1;33m+\u001b[0m \u001b[0mstart_index\u001b[0m\u001b[1;33m,\u001b[0m \u001b[0mkey_text\u001b[0m\u001b[1;33m)\u001b[0m\u001b[1;33m\u001b[0m\u001b[1;33m\u001b[0m\u001b[0m\n\u001b[1;32m---> 13\u001b[1;33m         \u001b[1;32mraise\u001b[0m \u001b[0me\u001b[0m\u001b[1;33m\u001b[0m\u001b[1;33m\u001b[0m\u001b[0m\n\u001b[0m\u001b[0;32m     14\u001b[0m     \u001b[1;31m# break\u001b[0m\u001b[1;33m\u001b[0m\u001b[1;33m\u001b[0m\u001b[1;33m\u001b[0m\u001b[0m\n",
      "\u001b[1;32m<ipython-input-29-9888fd31f529>\u001b[0m in \u001b[0;36m<module>\u001b[1;34m()\u001b[0m\n\u001b[0;32m      8\u001b[0m \u001b[1;32mfor\u001b[0m \u001b[0mi\u001b[0m\u001b[1;33m,\u001b[0m \u001b[0mkey_text\u001b[0m \u001b[1;32min\u001b[0m \u001b[0menumerate\u001b[0m\u001b[1;33m(\u001b[0m\u001b[0mdata\u001b[0m\u001b[1;33m[\u001b[0m\u001b[0mstart_index\u001b[0m\u001b[1;33m:\u001b[0m\u001b[1;33m]\u001b[0m\u001b[1;33m)\u001b[0m\u001b[1;33m:\u001b[0m\u001b[1;33m\u001b[0m\u001b[1;33m\u001b[0m\u001b[0m\n\u001b[0;32m      9\u001b[0m     \u001b[1;32mtry\u001b[0m\u001b[1;33m:\u001b[0m\u001b[1;33m\u001b[0m\u001b[1;33m\u001b[0m\u001b[0m\n\u001b[1;32m---> 10\u001b[1;33m         \u001b[0msearch_key_words\u001b[0m\u001b[1;33m(\u001b[0m\u001b[0mkey_text\u001b[0m\u001b[1;33m=\u001b[0m\u001b[0mkey_text\u001b[0m\u001b[1;33m,\u001b[0m \u001b[0mresult_list\u001b[0m\u001b[1;33m=\u001b[0m\u001b[0mall_product_first_page_list\u001b[0m\u001b[1;33m)\u001b[0m\u001b[1;33m\u001b[0m\u001b[1;33m\u001b[0m\u001b[0m\n\u001b[0m\u001b[0;32m     11\u001b[0m     \u001b[1;32mexcept\u001b[0m \u001b[0mException\u001b[0m \u001b[1;32mas\u001b[0m \u001b[0me\u001b[0m\u001b[1;33m:\u001b[0m\u001b[1;33m\u001b[0m\u001b[1;33m\u001b[0m\u001b[0m\n\u001b[0;32m     12\u001b[0m         \u001b[0mprint\u001b[0m\u001b[1;33m(\u001b[0m\u001b[0mi\u001b[0m \u001b[1;33m+\u001b[0m \u001b[0mstart_index\u001b[0m\u001b[1;33m,\u001b[0m \u001b[0mkey_text\u001b[0m\u001b[1;33m)\u001b[0m\u001b[1;33m\u001b[0m\u001b[1;33m\u001b[0m\u001b[0m\n",
      "\u001b[1;32m<ipython-input-21-e9e44cc68d06>\u001b[0m in \u001b[0;36msearch_key_words\u001b[1;34m(key_text, result_list)\u001b[0m\n\u001b[0;32m     28\u001b[0m \u001b[1;33m\u001b[0m\u001b[0m\n\u001b[0;32m     29\u001b[0m         ad_views = driver.find_elements_by_xpath(\n\u001b[1;32m---> 30\u001b[1;33m             '//div[@class=\"ads-visurl\"]')\n\u001b[0m\u001b[0;32m     31\u001b[0m         \u001b[1;32mfor\u001b[0m \u001b[0mad_view\u001b[0m \u001b[1;32min\u001b[0m \u001b[0mad_views\u001b[0m\u001b[1;33m:\u001b[0m\u001b[1;33m\u001b[0m\u001b[1;33m\u001b[0m\u001b[0m\n\u001b[0;32m     32\u001b[0m             \u001b[0murl\u001b[0m \u001b[1;33m=\u001b[0m \u001b[0mad_view\u001b[0m\u001b[1;33m.\u001b[0m\u001b[0mtext\u001b[0m\u001b[1;33m\u001b[0m\u001b[1;33m\u001b[0m\u001b[0m\n",
      "\u001b[1;32mD:\\Program Files\\Anaconda3\\lib\\site-packages\\selenium\\webdriver\\remote\\webdriver.py\u001b[0m in \u001b[0;36mfind_elements_by_xpath\u001b[1;34m(self, xpath)\u001b[0m\n\u001b[0;32m    375\u001b[0m             \u001b[0mdriver\u001b[0m\u001b[1;33m.\u001b[0m\u001b[0mfind_elements_by_xpath\u001b[0m\u001b[1;33m(\u001b[0m\u001b[1;34m\"//div[contains(@class, 'foo')]\"\u001b[0m\u001b[1;33m)\u001b[0m\u001b[1;33m\u001b[0m\u001b[1;33m\u001b[0m\u001b[0m\n\u001b[0;32m    376\u001b[0m         \"\"\"\n\u001b[1;32m--> 377\u001b[1;33m         \u001b[1;32mreturn\u001b[0m \u001b[0mself\u001b[0m\u001b[1;33m.\u001b[0m\u001b[0mfind_elements\u001b[0m\u001b[1;33m(\u001b[0m\u001b[0mby\u001b[0m\u001b[1;33m=\u001b[0m\u001b[0mBy\u001b[0m\u001b[1;33m.\u001b[0m\u001b[0mXPATH\u001b[0m\u001b[1;33m,\u001b[0m \u001b[0mvalue\u001b[0m\u001b[1;33m=\u001b[0m\u001b[0mxpath\u001b[0m\u001b[1;33m)\u001b[0m\u001b[1;33m\u001b[0m\u001b[1;33m\u001b[0m\u001b[0m\n\u001b[0m\u001b[0;32m    378\u001b[0m \u001b[1;33m\u001b[0m\u001b[0m\n\u001b[0;32m    379\u001b[0m     \u001b[1;32mdef\u001b[0m \u001b[0mfind_element_by_link_text\u001b[0m\u001b[1;33m(\u001b[0m\u001b[0mself\u001b[0m\u001b[1;33m,\u001b[0m \u001b[0mlink_text\u001b[0m\u001b[1;33m)\u001b[0m\u001b[1;33m:\u001b[0m\u001b[1;33m\u001b[0m\u001b[1;33m\u001b[0m\u001b[0m\n",
      "\u001b[1;32mD:\\Program Files\\Anaconda3\\lib\\site-packages\\selenium\\webdriver\\remote\\webdriver.py\u001b[0m in \u001b[0;36mfind_elements\u001b[1;34m(self, by, value)\u001b[0m\n\u001b[0;32m    869\u001b[0m         return self.execute(Command.FIND_ELEMENTS, {\n\u001b[0;32m    870\u001b[0m             \u001b[1;34m'using'\u001b[0m\u001b[1;33m:\u001b[0m \u001b[0mby\u001b[0m\u001b[1;33m,\u001b[0m\u001b[1;33m\u001b[0m\u001b[1;33m\u001b[0m\u001b[0m\n\u001b[1;32m--> 871\u001b[1;33m             'value': value})['value'] or []\n\u001b[0m\u001b[0;32m    872\u001b[0m \u001b[1;33m\u001b[0m\u001b[0m\n\u001b[0;32m    873\u001b[0m     \u001b[1;33m@\u001b[0m\u001b[0mproperty\u001b[0m\u001b[1;33m\u001b[0m\u001b[1;33m\u001b[0m\u001b[0m\n",
      "\u001b[1;32mD:\\Program Files\\Anaconda3\\lib\\site-packages\\selenium\\webdriver\\remote\\webdriver.py\u001b[0m in \u001b[0;36mexecute\u001b[1;34m(self, driver_command, params)\u001b[0m\n\u001b[0;32m    306\u001b[0m         \u001b[0mresponse\u001b[0m \u001b[1;33m=\u001b[0m \u001b[0mself\u001b[0m\u001b[1;33m.\u001b[0m\u001b[0mcommand_executor\u001b[0m\u001b[1;33m.\u001b[0m\u001b[0mexecute\u001b[0m\u001b[1;33m(\u001b[0m\u001b[0mdriver_command\u001b[0m\u001b[1;33m,\u001b[0m \u001b[0mparams\u001b[0m\u001b[1;33m)\u001b[0m\u001b[1;33m\u001b[0m\u001b[1;33m\u001b[0m\u001b[0m\n\u001b[0;32m    307\u001b[0m         \u001b[1;32mif\u001b[0m \u001b[0mresponse\u001b[0m\u001b[1;33m:\u001b[0m\u001b[1;33m\u001b[0m\u001b[1;33m\u001b[0m\u001b[0m\n\u001b[1;32m--> 308\u001b[1;33m             \u001b[0mself\u001b[0m\u001b[1;33m.\u001b[0m\u001b[0merror_handler\u001b[0m\u001b[1;33m.\u001b[0m\u001b[0mcheck_response\u001b[0m\u001b[1;33m(\u001b[0m\u001b[0mresponse\u001b[0m\u001b[1;33m)\u001b[0m\u001b[1;33m\u001b[0m\u001b[1;33m\u001b[0m\u001b[0m\n\u001b[0m\u001b[0;32m    309\u001b[0m             response['value'] = self._unwrap_value(\n\u001b[0;32m    310\u001b[0m                 response.get('value', None))\n",
      "\u001b[1;32mD:\\Program Files\\Anaconda3\\lib\\site-packages\\selenium\\webdriver\\remote\\errorhandler.py\u001b[0m in \u001b[0;36mcheck_response\u001b[1;34m(self, response)\u001b[0m\n\u001b[0;32m    192\u001b[0m         \u001b[1;32melif\u001b[0m \u001b[0mexception_class\u001b[0m \u001b[1;33m==\u001b[0m \u001b[0mUnexpectedAlertPresentException\u001b[0m \u001b[1;32mand\u001b[0m \u001b[1;34m'alert'\u001b[0m \u001b[1;32min\u001b[0m \u001b[0mvalue\u001b[0m\u001b[1;33m:\u001b[0m\u001b[1;33m\u001b[0m\u001b[1;33m\u001b[0m\u001b[0m\n\u001b[0;32m    193\u001b[0m             \u001b[1;32mraise\u001b[0m \u001b[0mexception_class\u001b[0m\u001b[1;33m(\u001b[0m\u001b[0mmessage\u001b[0m\u001b[1;33m,\u001b[0m \u001b[0mscreen\u001b[0m\u001b[1;33m,\u001b[0m \u001b[0mstacktrace\u001b[0m\u001b[1;33m,\u001b[0m \u001b[0mvalue\u001b[0m\u001b[1;33m[\u001b[0m\u001b[1;34m'alert'\u001b[0m\u001b[1;33m]\u001b[0m\u001b[1;33m.\u001b[0m\u001b[0mget\u001b[0m\u001b[1;33m(\u001b[0m\u001b[1;34m'text'\u001b[0m\u001b[1;33m)\u001b[0m\u001b[1;33m)\u001b[0m\u001b[1;33m\u001b[0m\u001b[1;33m\u001b[0m\u001b[0m\n\u001b[1;32m--> 194\u001b[1;33m         \u001b[1;32mraise\u001b[0m \u001b[0mexception_class\u001b[0m\u001b[1;33m(\u001b[0m\u001b[0mmessage\u001b[0m\u001b[1;33m,\u001b[0m \u001b[0mscreen\u001b[0m\u001b[1;33m,\u001b[0m \u001b[0mstacktrace\u001b[0m\u001b[1;33m)\u001b[0m\u001b[1;33m\u001b[0m\u001b[1;33m\u001b[0m\u001b[0m\n\u001b[0m\u001b[0;32m    195\u001b[0m \u001b[1;33m\u001b[0m\u001b[0m\n\u001b[0;32m    196\u001b[0m     \u001b[1;32mdef\u001b[0m \u001b[0m_value_or_default\u001b[0m\u001b[1;33m(\u001b[0m\u001b[0mself\u001b[0m\u001b[1;33m,\u001b[0m \u001b[0mobj\u001b[0m\u001b[1;33m,\u001b[0m \u001b[0mkey\u001b[0m\u001b[1;33m,\u001b[0m \u001b[0mdefault\u001b[0m\u001b[1;33m)\u001b[0m\u001b[1;33m:\u001b[0m\u001b[1;33m\u001b[0m\u001b[1;33m\u001b[0m\u001b[0m\n",
      "\u001b[1;31mNoSuchWindowException\u001b[0m: Message: no such window: target window already closed\nfrom unknown error: web view not found\n  (Session info: chrome=72.0.3626.121)\n  (Driver info: chromedriver=73.0.3683.68 (47787ec04b6e38e22703e856e101e840b65afe72),platform=Windows NT 10.0.18362 x86_64)\n"
     ],
     "output_type": "error"
    }
   ],
   "source": [
    "with open(r'E:\\workspace_all\\workspace_py\\hs_code_spider\\ali_product_list.json', 'r', encoding='utf8') as fp:\n",
    "    data = json.load(fp)\n",
    "\n",
    "data = list(data)\n",
    "start_index = 1740\n",
    "# data.insert(0, 'led')\n",
    "all_product_first_page_list = list()\n",
    "for i, key_text in enumerate(data[start_index:]):\n",
    "    try:\n",
    "        search_key_words(key_text=key_text, result_list=all_product_first_page_list)\n",
    "    except Exception as e:\n",
    "        print(i + start_index, key_text)\n",
    "        raise e\n",
    "    # break\n"
   ]
  },
  {
   "cell_type": "code",
   "execution_count": 39,
   "metadata": {},
   "outputs": [
    {
     "name": "stdout",
     "output_type": "stream",
     "text": [
      "广告www.bankerbags.com/Promotional/Logo_Bags\n"
     ]
    }
   ],
   "source": [
    "# ad_views = driver.find_elements_by_xpath(\n",
    "#         '//div[@class=\"ads-visurl\"]')\n",
    "# for ad_view in ad_views:\n",
    "#     url = ad_view.text\n",
    "#     print(url)\n"
   ]
  },
  {
   "cell_type": "code",
   "execution_count": null,
   "metadata": {},
   "outputs": [],
   "source": []
  }
 ],
 "metadata": {
  "kernelspec": {
   "display_name": "Python 2",
   "language": "python",
   "name": "python2"
  },
  "language_info": {
   "codemirror_mode": {
    "name": "ipython",
    "version": 2
   },
   "file_extension": ".py",
   "mimetype": "text/x-python",
   "name": "python",
   "nbconvert_exporter": "python",
   "pygments_lexer": "ipython2",
   "version": "2.7.6"
  }
 },
 "nbformat": 4,
 "nbformat_minor": 0
}
